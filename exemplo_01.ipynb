{
  "nbformat": 4,
  "nbformat_minor": 0,
  "metadata": {
    "colab": {
      "name": "exemplo_01.ipynb",
      "provenance": [],
      "collapsed_sections": [],
      "authorship_tag": "ABX9TyMIH4HXfw3p+d2By7Uhp9du",
      "include_colab_link": true
    },
    "kernelspec": {
      "name": "python3",
      "display_name": "Python 3"
    }
  },
  "cells": [
    {
      "cell_type": "markdown",
      "metadata": {
        "id": "view-in-github",
        "colab_type": "text"
      },
      "source": [
        "<a href=\"https://colab.research.google.com/github/jeangs99/repo01/blob/master/exemplo_01.ipynb\" target=\"_parent\"><img src=\"https://colab.research.google.com/assets/colab-badge.svg\" alt=\"Open In Colab\"/></a>"
      ]
    },
    {
      "cell_type": "code",
      "metadata": {
        "id": "iz4m_KvSfzzs",
        "colab_type": "code",
        "colab": {
          "base_uri": "https://localhost:8080/",
          "height": 51
        },
        "outputId": "092e920b-b9a1-4585-e959-33c79f30fe53"
      },
      "source": [
        "# isto é um comando de saída\n",
        "print('Olá mundo!')\n",
        "print('Hello world!')\n",
        "print(\"'Aspas duplas'\")\n",
        "\n",
        "# a hashtag é um comentário no código, ou seja, o programa não irá processar nenhuma linha que estiver marcada\n",
        "# o comando print mostra na tela, ou seja, é uma saída de valor ou valores.\n",
        "# O conteúdo texto deve estar dentro de aspas (simples ou dupla)\n"
      ],
      "execution_count": 1,
      "outputs": [
        {
          "output_type": "stream",
          "text": [
            "Olá mundo!\n",
            "Hello world!\n"
          ],
          "name": "stdout"
        }
      ]
    },
    {
      "cell_type": "markdown",
      "metadata": {
        "id": "-EYde0kVoxje",
        "colab_type": "text"
      },
      "source": [
        "Essa é uma célula somente de texto. Aqui posso fazer formatações usando as ferramentas que estão na barra. Por exemplo, **isto está em negrito**. *Isso é itálico*."
      ]
    },
    {
      "cell_type": "markdown",
      "metadata": {
        "id": "cOszfBCBpefw",
        "colab_type": "text"
      },
      "source": [
        "Abaixo vamos ver como mesclar uma saída de tela."
      ]
    },
    {
      "cell_type": "code",
      "metadata": {
        "id": "Fd_vSLlqpkG9",
        "colab_type": "code",
        "colab": {}
      },
      "source": [
        "print('Edson','Melo','de','Souza')"
      ],
      "execution_count": null,
      "outputs": []
    }
  ]
}