{
  "nbformat": 4,
  "nbformat_minor": 0,
  "metadata": {
    "colab": {
      "name": "ExercicioAula05.ipynb",
      "provenance": [],
      "collapsed_sections": [],
      "authorship_tag": "ABX9TyMNODUy4rJXHaOepveI8gaW",
      "include_colab_link": true
    },
    "kernelspec": {
      "name": "python3",
      "display_name": "Python 3"
    }
  },
  "cells": [
    {
      "cell_type": "markdown",
      "metadata": {
        "id": "view-in-github",
        "colab_type": "text"
      },
      "source": [
        "<a href=\"https://colab.research.google.com/github/jeangs99/repo01/blob/master/ExercicioAula05.ipynb\" target=\"_parent\"><img src=\"https://colab.research.google.com/assets/colab-badge.svg\" alt=\"Open In Colab\"/></a>"
      ]
    },
    {
      "cell_type": "code",
      "metadata": {
        "id": "J6fmPl9mo8ib",
        "colab_type": "code",
        "colab": {
          "base_uri": "https://localhost:8080/",
          "height": 102
        },
        "outputId": "95bcb84e-33af-49cc-b3be-5a67d4f67d88"
      },
      "source": [
        "list_nome = ['João', 'Rosangela', 'Marcelo', 'Marcela', 'Robinho', 'Juliana', 'Roberta', 'Ronado']\n",
        "list_idade = [18, 25, 34, 27, 58, 37, 17]\n",
        "list_peso = [60.5, 50.8, 78.2]\n",
        "print(list_nome)\n",
        "\n",
        "# verificando a maior idade e a menor idade\n",
        "print('O mais velho(a) tem: ', max(list_idade), ' anos de idade')\n",
        "print('O mais novo(a) tem: ', min(list_idade), 'anos de idade')\n",
        "\n",
        "# calculando a média da idade\n",
        "media_idade = list_idade[0] + list_idade[1] + list_idade[2]\n",
        "media_idade = media_idade / 3\n",
        "print('A média de idade é: ', round(media_idade),'anos.')\n",
        "\n",
        "#calculando a média do peso\n",
        "media_peso = list_peso[0] + list_peso[1] + list_peso[2]\n",
        "media_peso = media_peso / 3\n",
        "print('A média de peso é: ',round(media_peso), 'Kg.')\n"
      ],
      "execution_count": null,
      "outputs": [
        {
          "output_type": "stream",
          "text": [
            "['João', 'Rosangela', 'Marcelo']\n",
            "O mais velho(a) tem:  34  anos de idade\n",
            "O mais novo(a) tem:  18 anos de idade\n",
            "A média de idade é:  26 anos.\n",
            "A média de peso é:  63 Kg.\n"
          ],
          "name": "stdout"
        }
      ]
    }
  ]
}