{
  "nbformat": 4,
  "nbformat_minor": 0,
  "metadata": {
    "colab": {
      "name": "Aula04-incompleta.ipynb",
      "provenance": [],
      "collapsed_sections": [],
      "authorship_tag": "ABX9TyNpy0oSDGFvPMY/TRwOeZnJ",
      "include_colab_link": true
    },
    "kernelspec": {
      "name": "python3",
      "display_name": "Python 3"
    }
  },
  "cells": [
    {
      "cell_type": "markdown",
      "metadata": {
        "id": "view-in-github",
        "colab_type": "text"
      },
      "source": [
        "<a href=\"https://colab.research.google.com/github/jeangs99/repo01/blob/master/Aula04_incompleta.ipynb\" target=\"_parent\"><img src=\"https://colab.research.google.com/assets/colab-badge.svg\" alt=\"Open In Colab\"/></a>"
      ]
    },
    {
      "cell_type": "code",
      "metadata": {
        "id": "U1pEFIx1gEAA",
        "colab_type": "code",
        "colab": {
          "base_uri": "https://localhost:8080/",
          "height": 86
        },
        "outputId": "5df31116-7b27-4bcc-f418-452f0607d787"
      },
      "source": [
        "a = int(input('Informe o valor de A:'))\n",
        "b = int(input('Informe o valor de B:'))\n",
        "c = int(input('Informe o valor de C'))\n",
        "delta = ((b ** 2) - 4 *a * c)\n",
        "print('O valor de Delta é: ', delta)"
      ],
      "execution_count": 10,
      "outputs": [
        {
          "output_type": "stream",
          "text": [
            "Informe o valor de A:1\n",
            "Informe o valor de B:12\n",
            "Informe o valor de C-13\n",
            "O valor de Delta é:  196\n"
          ],
          "name": "stdout"
        }
      ]
    }
  ]
}