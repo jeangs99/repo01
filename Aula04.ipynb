{
  "nbformat": 4,
  "nbformat_minor": 0,
  "metadata": {
    "colab": {
      "name": "Aula04.ipynb",
      "provenance": [],
      "collapsed_sections": [],
      "authorship_tag": "ABX9TyN7EPN2QqSMSCbW7CvoKkZl",
      "include_colab_link": true
    },
    "kernelspec": {
      "name": "python3",
      "display_name": "Python 3"
    }
  },
  "cells": [
    {
      "cell_type": "markdown",
      "metadata": {
        "id": "view-in-github",
        "colab_type": "text"
      },
      "source": [
        "<a href=\"https://colab.research.google.com/github/jeangs99/repo01/blob/master/Aula04.ipynb\" target=\"_parent\"><img src=\"https://colab.research.google.com/assets/colab-badge.svg\" alt=\"Open In Colab\"/></a>"
      ]
    },
    {
      "cell_type": "markdown",
      "metadata": {
        "id": "5WjfP-GfIvGv",
        "colab_type": "text"
      },
      "source": [
        "# **Exercícios de Fixação**"
      ]
    },
    {
      "cell_type": "markdown",
      "metadata": {
        "id": "0iz-YJ9YIfLH",
        "colab_type": "text"
      },
      "source": [
        "## 1) Implemente um programa que escreve na tela a frase \"Meu primeiro programa em Python!!!\"."
      ]
    },
    {
      "cell_type": "code",
      "metadata": {
        "id": "5Qb-uT71IjgG",
        "colab_type": "code",
        "colab": {}
      },
      "source": [
        "print('Meu primeiro programa em Python!')"
      ],
      "execution_count": null,
      "outputs": []
    },
    {
      "cell_type": "markdown",
      "metadata": {
        "id": "L3q1bhELJLME",
        "colab_type": "text"
      },
      "source": [
        "## 2) Você foi contratado por uma escola pra fazer o sistema de boletim dos alunos. Como primeiro passo, escreva um programa que produza a seguinte saída (Não é necessário manter o alinhamento):,\n",
        "    \n",
        "    \"| Aluno(a)        |  Nota |\",\n",
        "    \"|-----------------|------:|\",\n",
        "    \"| Ana Maria       |  9.00 |\",\n",
        "    \"| José Carlos     |  7.20 |\",\n",
        "    \"| Júlio Martins   |  8.00 |\",\n",
        "    \"| Ubiratan Santos | 10.00 |\""
      ]
    },
    {
      "cell_type": "code",
      "metadata": {
        "id": "myucI0xJJIMk",
        "colab_type": "code",
        "colab": {}
      },
      "source": [
        "aluno1 = 'Ana Maria'\n",
        "aluno2 = 'José Carlos'\n",
        "aluno3 = 'Julio Martins'\n",
        "aluno4 = 'Ubiratan Santos'\n",
        "nota1 = 9.0\n",
        "nota2 = 7.20\n",
        "nota3 = 8.0\n",
        "nota4 = 10.00\n",
        "print(aluno1,'\\t', nota1)\n",
        "print(aluno2,'\\t',nota2)\n",
        "print(aluno3, '\\t',nota3)\n",
        "print(aluno4, nota4)\n"
      ],
      "execution_count": null,
      "outputs": []
    },
    {
      "cell_type": "markdown",
      "metadata": {
        "id": "6FEhh4q3MLSR",
        "colab_type": "text"
      },
      "source": [
        "## 3) Utilizando variáveis, faça um programa para realizar o seguinte cálculo: [imagem](https://render.githubusercontent.com/render/math?math=10%20%2B%2020%20-%2030%20%2B%20%2845%20%2A%203%29%20%2F%208%20%2A%2A%202&mode=inline)\n",
        "\n",
        "$10 + 20 - 30 + (45 * 3) / 8 ** 2$\""
      ]
    },
    {
      "cell_type": "code",
      "metadata": {
        "id": "CBZeIgtlMNwo",
        "colab_type": "code",
        "colab": {}
      },
      "source": [
        "resultado = 10 + 20 - 30 + (45*3)/8**2\n",
        "print(resultado)"
      ],
      "execution_count": null,
      "outputs": []
    },
    {
      "cell_type": "markdown",
      "metadata": {
        "id": "fdHct8O-PKD3",
        "colab_type": "text"
      },
      "source": [
        "## 4) Faça um programa que leia duas variáveis pelo teclado e apresente a soma entre eles"
      ]
    },
    {
      "cell_type": "code",
      "metadata": {
        "id": "llklDTXtPLhm",
        "colab_type": "code",
        "colab": {}
      },
      "source": [
        "valor1 = int(input('Informe um valor: '))\n",
        "valor2 = int(input('Informe outro valor: '))\n",
        "resultado = valor1 + valor2\n",
        "print(resultado)"
      ],
      "execution_count": null,
      "outputs": []
    },
    {
      "cell_type": "markdown",
      "metadata": {
        "id": "bQxP7tdII7wU",
        "colab_type": "text"
      },
      "source": [
        "## 5) Calcule o delta da equação a seguir, realizando a entrada dos valores de (a, b e c) pelo teclado\n",
        "Exemplo: $x^2 + 12x - 13 = 0$ (a=1, b=12 e c=-13)."
      ]
    },
    {
      "cell_type": "code",
      "metadata": {
        "id": "U1pEFIx1gEAA",
        "colab_type": "code",
        "colab": {}
      },
      "source": [
        "a = int(input('Informe o valor de A:'))\n",
        "b = int(input('Informe o valor de B:'))\n",
        "c = int(input('Informe o valor de C:'))\n",
        "delta = (b ** 2) - 4 * a * c\n",
        "print('O valor de Delta é: ', delta)"
      ],
      "execution_count": null,
      "outputs": []
    }
  ]
}